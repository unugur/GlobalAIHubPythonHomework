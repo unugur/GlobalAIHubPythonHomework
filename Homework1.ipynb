{
 "cells": [
  {
   "cell_type": "code",
   "execution_count": 11,
   "metadata": {},
   "outputs": [
    {
     "name": "stdout",
     "output_type": "stream",
     "text": [
      "Enter a value: 1\n",
      "Enter a value: 2\n",
      "Enter a value: 3\n",
      "Enter a value: 4\n",
      "Enter a value: 5.1\n",
      "Value1 = 1\n",
      "Value2 = 2\n",
      "Value3 = 3.0\n",
      "Value4 = 4.0\n",
      "Value5 = 5.1\n",
      "Type of Value1 = <class 'int'>\n",
      "Type of Value2 = <class 'int'>\n",
      "Type of Value3 = <class 'float'>\n",
      "Type of Value4 = <class 'float'>\n",
      "Type of Value5 = <class 'str'>\n"
     ]
    }
   ],
   "source": [
    "value1 = int(input(\"Enter a value: \"))\n",
    "value2 = int(input(\"Enter a value: \"))\n",
    "value3 = float(input(\"Enter a value: \"))\n",
    "value4 = float(input(\"Enter a value: \"))\n",
    "value5 = input(\"Enter a value: \")\n",
    "\n",
    "print(\"Value1 = {}\".format(value1))\n",
    "print(\"Value2 = {}\".format(value2))\n",
    "print(\"Value3 = {}\".format(value3))\n",
    "print(\"Value4 = {}\".format(value4))\n",
    "print(\"Value5 = {}\".format(value5))\n",
    "\n",
    "print(\"Type of Value1 = {}\".format(type(value1)))\n",
    "print(\"Type of Value2 = {}\".format(type(value2)))\n",
    "print(\"Type of Value3 = {}\".format(type(value3)))\n",
    "print(\"Type of Value4 = {}\".format(type(value4)))\n",
    "print(\"Type of Value5 = {}\".format(type(value5)))\n",
    "\n"
   ]
  },
  {
   "cell_type": "code",
   "execution_count": null,
   "metadata": {},
   "outputs": [],
   "source": []
  },
  {
   "cell_type": "code",
   "execution_count": null,
   "metadata": {},
   "outputs": [],
   "source": [
    "c\n"
   ]
  }
 ],
 "metadata": {
  "kernelspec": {
   "display_name": "Python 3",
   "language": "python",
   "name": "python3"
  },
  "language_info": {
   "codemirror_mode": {
    "name": "ipython",
    "version": 3
   },
   "file_extension": ".py",
   "mimetype": "text/x-python",
   "name": "python",
   "nbconvert_exporter": "python",
   "pygments_lexer": "ipython3",
   "version": "3.8.5"
  }
 },
 "nbformat": 4,
 "nbformat_minor": 4
}
