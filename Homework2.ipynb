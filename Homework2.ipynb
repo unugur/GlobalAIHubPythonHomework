{
 "cells": [
  {
   "cell_type": "code",
   "execution_count": 18,
   "metadata": {},
   "outputs": [
    {
     "name": "stdout",
     "output_type": "stream",
     "text": [
      "Please enter your first name: Uğur\n",
      "Please enter your last name: ÜN\n",
      "Please enter your age: 21\n",
      "Please enter your date of birth as year: 1999\n",
      "Uğur\n",
      "ÜN\n",
      "21\n",
      "1999\n",
      "You can go out to the street.\n"
     ]
    }
   ],
   "source": [
    "firstName = input(\"Please enter your first name: \")\n",
    "lastName = input(\"Please enter your last name: \")\n",
    "Age = int(input(\"Please enter your age: \"))\n",
    "DateOfBirth = int(input(\"Please enter your date of birth as year: \"))\n",
    "\n",
    "UserID = []\n",
    "\n",
    "UserID.insert(0,firstName)\n",
    "UserID.insert(1,lastName)\n",
    "UserID.insert(2,Age)\n",
    "UserID.insert(3,DateOfBirth)\n",
    "\n",
    "for i in UserID:\n",
    "    print(i)\n",
    "    \n",
    "if UserID[2] < 18:\n",
    "    print(\"You can't go out because it's too dengerous.\")\n",
    "elif UserID[2] > 18:\n",
    "    print(\"You can go out to the street.\")\n",
    "\n"
   ]
  },
  {
   "cell_type": "code",
   "execution_count": null,
   "metadata": {},
   "outputs": [],
   "source": []
  },
  {
   "cell_type": "code",
   "execution_count": null,
   "metadata": {},
   "outputs": [],
   "source": []
  }
 ],
 "metadata": {
  "kernelspec": {
   "display_name": "Python 3",
   "language": "python",
   "name": "python3"
  },
  "language_info": {
   "codemirror_mode": {
    "name": "ipython",
    "version": 3
   },
   "file_extension": ".py",
   "mimetype": "text/x-python",
   "name": "python",
   "nbconvert_exporter": "python",
   "pygments_lexer": "ipython3",
   "version": "3.8.5"
  }
 },
 "nbformat": 4,
 "nbformat_minor": 4
}
