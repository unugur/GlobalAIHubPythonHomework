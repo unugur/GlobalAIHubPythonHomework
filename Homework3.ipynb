{
 "cells": [
  {
   "cell_type": "code",
   "execution_count": 10,
   "metadata": {
    "scrolled": true
   },
   "outputs": [
    {
     "name": "stdout",
     "output_type": "stream",
     "text": [
      "Please enter your name: UĞUR\n",
      "Welcome UĞUR\n",
      "\n",
      "\n",
      "WORD: ['_', '_', '_', '_', '_', '_', '_', '_', '_', '_', '_']\n",
      "\n",
      "\n",
      "Guess the word: asdasd\n",
      "WRONG!\n",
      "Please guess a letter: a\n",
      "WORD: ['_', '_', '_', '_', '_', '_', '_', '_', '_', '_', '_']\n",
      "\n",
      "\n",
      "Guess the word: a\n",
      "WRONG!\n",
      "Please guess a letter: e\n",
      "WORD: ['e', '_', '_', '_', '_', 'e', 'e', '_', '_', '_', '_']\n",
      "\n",
      "\n",
      "Guess the word: engineering\n",
      "ANSWER: engineering\n",
      "POINT = 80\n",
      "WELL DONE UĞUR, YOU WIN!\n"
     ]
    }
   ],
   "source": [
    "words = list([\"university\",\"software\",\"engineering\",\"congratulations\",\"phyton\",\"computer\",\"intelligence\",\"technology\",\"cell\",\"future\"])\n",
    "POINT = 100\n",
    "turn = 10\n",
    "counter = 0\n",
    "\n",
    "import random\n",
    "\n",
    "myword = random.choice(words)\n",
    "length = len(myword)   \n",
    "\n",
    "guessword = []\n",
    "\n",
    "for i in range(length):\n",
    "    guessword.extend(\"_\")\n",
    "    \n",
    "name = input(\"Please enter your name: \")\n",
    "print(\"Welcome {}\".format(name))\n",
    "print(\"\\n\")\n",
    "print(\"WORD: {}\".format(guessword))\n",
    "print(\"\\n\")\n",
    "\n",
    "for j in range(turn):\n",
    "    guess = input(\"Guess the word: \")\n",
    "    \n",
    "    if guess == myword:\n",
    "        print(\"ANSWER: {}\".format(myword))\n",
    "        print(\"POINT = {}\".format(POINT))\n",
    "        print(\"WELL DONE {}, YOU WIN!\".format(name))\n",
    "        break\n",
    "    else:\n",
    "        print(\"WRONG!\")\n",
    "        guessletter = input(\"Please guess a letter: \")\n",
    "       \n",
    "        for k in range(length):\n",
    "            if myword[k] == guessletter:\n",
    "                guessword[k]=guessletter\n",
    "                if guessword == myword:\n",
    "                    break\n",
    "    \n",
    "    counter+=1\n",
    "    POINT-=10\n",
    "    print(\"WORD: {}\".format(guessword))\n",
    "    print(\"\\n\")\n",
    "\n",
    "if counter==turn:\n",
    "    print(\"CORRECT ANSWER : {}\".format(myword))\n",
    "    print(\"POINT = {}\".format(POINT))\n",
    "    print(\"SORRY {}, GAME OVER!\".format(name))\n",
    "    \n",
    "        \n"
   ]
  },
  {
   "cell_type": "code",
   "execution_count": null,
   "metadata": {},
   "outputs": [],
   "source": []
  },
  {
   "cell_type": "code",
   "execution_count": null,
   "metadata": {},
   "outputs": [],
   "source": []
  },
  {
   "cell_type": "code",
   "execution_count": null,
   "metadata": {},
   "outputs": [],
   "source": []
  },
  {
   "cell_type": "code",
   "execution_count": null,
   "metadata": {},
   "outputs": [],
   "source": []
  }
 ],
 "metadata": {
  "kernelspec": {
   "display_name": "Python 3",
   "language": "python",
   "name": "python3"
  },
  "language_info": {
   "codemirror_mode": {
    "name": "ipython",
    "version": 3
   },
   "file_extension": ".py",
   "mimetype": "text/x-python",
   "name": "python",
   "nbconvert_exporter": "python",
   "pygments_lexer": "ipython3",
   "version": "3.8.5"
  }
 },
 "nbformat": 4,
 "nbformat_minor": 4
}
