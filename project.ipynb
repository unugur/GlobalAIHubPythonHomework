{
 "cells": [
  {
   "cell_type": "code",
   "execution_count": 11,
   "metadata": {},
   "outputs": [
    {
     "name": "stdout",
     "output_type": "stream",
     "text": [
      "Enter your name and surname: Uğur ÜN\n",
      "WELCOME\n",
      "Enter number of the courses you want to choose between 3 and 5: 5\n",
      "\n",
      "YOUR COURSES = ['MATHS', 'PHYTON', 'ELECTRONICS', 'PROBABILITY', 'LINEAR ALGEBRA']\n",
      "Choose one of your courses for exam: PHYTON\n",
      "PHYTON is your exam course !\n",
      "\n",
      "Enter your midterm point: 50\n",
      "Enter your final point: 50\n",
      "Enter your project point: 50\n",
      "\n",
      "You get CC!, PASSED!\n"
     ]
    }
   ],
   "source": [
    "name_surname = \"Uğur ÜN\"\n",
    "courses = [\"MATHS\",\"PHYTON\",\"ELECTRONICS\",\"PROBABILITY\",\"LINEAR ALGEBRA\"]\n",
    "choosen =[]\n",
    "situation = \"UNSUCCESSFUL\"\n",
    "\n",
    "\n",
    "for i in range(3):\n",
    "    userNameSurname = input(\"Enter your name and surname: \")  \n",
    "    if name_surname == userNameSurname:\n",
    "        print(\"WELCOME\")\n",
    "        \n",
    "        \n",
    "        courseNumber = int(input(\"Enter number of the courses you want to choose between 3 and 5: \"))\n",
    "        while courseNumber<3 or courseNumber>5:\n",
    "            courseNumber = int(input(\"FAILED!, Please enter a number between 3 and 5: \"))\n",
    "        if courseNumber ==5:\n",
    "            choosen = courses\n",
    "        else:\n",
    "            \n",
    "            for i in range(courseNumber):\n",
    "                print(\"\\nCOURSES = {}\".format(courses))\n",
    "                mycourse = input(\"Choose a course from the list: \")\n",
    "            \n",
    "                while mycourse not in courses:\n",
    "                    mycourse = input(\"FAILED!, Please Choose a course from the list: \")\n",
    "            \n",
    "                choosen.append(mycourse)\n",
    "                courses.remove(mycourse)    \n",
    "        \n",
    "        print(\"\\nYOUR COURSES = {}\".format(choosen))\n",
    "        examCourse = input(\"Choose one of your courses for exam: \")\n",
    "        \n",
    "        while examCourse not in choosen:\n",
    "            examCourse = input(\"FAILED!, Please choose from the list: \")\n",
    "\n",
    "        print(\"{} is your exam course !\".format(examCourse))\n",
    "        \n",
    "        midterm = float(input(\"\\nEnter your midterm point: \"))\n",
    "        final = float(input(\"Enter your final point: \"))\n",
    "        project = float(input(\"Enter your project point: \"))\n",
    "\n",
    "        exam = {\"midterm\":midterm,\"final\":final,\"project\":project}\n",
    "        grade = exam['midterm']*0.3 + exam['final']*0.5 + exam['project']*0.2\n",
    "    \n",
    "        if grade >= 90:\n",
    "            print(\"\\nYou get AA !, PASSED!\")\n",
    "        elif grade >= 70:\n",
    "            print(\"\\nYou get BB !, PASSED!\")\n",
    "        elif grade >= 50:\n",
    "            print(\"\\nYou get CC!, PASSED!\")\n",
    "        elif grade >= 30:\n",
    "            print(\"\\nYou get DD, PASSED!\")\n",
    "        else:\n",
    "            print(\"\\nYou get FF, FAILURE! \")                       \n",
    "        situation = \"SUCCESSFUL\"\n",
    "        break\n",
    "           \n",
    "\n",
    "if situation == \"UNSUCCESSFUL\":\n",
    "    print(\"\\nPlease try again later!\")            \n",
    "            \n",
    "        \n",
    "\n",
    "    \n",
    "\n",
    "\n",
    "    "
   ]
  },
  {
   "cell_type": "code",
   "execution_count": null,
   "metadata": {},
   "outputs": [],
   "source": []
  },
  {
   "cell_type": "code",
   "execution_count": null,
   "metadata": {},
   "outputs": [],
   "source": []
  }
 ],
 "metadata": {
  "kernelspec": {
   "display_name": "Python 3",
   "language": "python",
   "name": "python3"
  },
  "language_info": {
   "codemirror_mode": {
    "name": "ipython",
    "version": 3
   },
   "file_extension": ".py",
   "mimetype": "text/x-python",
   "name": "python",
   "nbconvert_exporter": "python",
   "pygments_lexer": "ipython3",
   "version": "3.8.5"
  }
 },
 "nbformat": 4,
 "nbformat_minor": 4
}
